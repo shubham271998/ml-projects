{
 "cells": [
  {
   "cell_type": "code",
   "execution_count": 2,
   "metadata": {},
   "outputs": [],
   "source": [
    "import numpy as np\n",
    "from sklearn import preprocessing\n",
    "import os\n",
    "os.chdir(\"C:\\\\Users\\HP\\Downloads\")"
   ]
  },
  {
   "cell_type": "code",
   "execution_count": 3,
   "metadata": {},
   "outputs": [
    {
     "name": "stdout",
     "output_type": "stream",
     "text": [
      "(7176, 4)\n"
     ]
    },
    {
     "data": {
      "text/plain": [
       "array([[   8.58,   38.38, 1021.03,   84.37],\n",
       "       [  21.79,   58.2 , 1017.21,   66.74],\n",
       "       [  16.64,   48.92, 1011.55,   78.76],\n",
       "       ...,\n",
       "       [  29.8 ,   69.34, 1009.36,   64.74],\n",
       "       [  16.37,   54.3 , 1017.94,   63.63],\n",
       "       [  30.11,   62.04, 1010.69,   47.96]])"
      ]
     },
     "execution_count": 3,
     "metadata": {},
     "output_type": "execute_result"
    }
   ],
   "source": [
    "data=np.genfromtxt(\"0000000000002419_training_ccpp_x_y_train.csv\",delimiter=\",\")\n",
    "data1=np.genfromtxt(\"0000000000002419_test_ccpp_x_test (1).csv\",delimiter=\",\")\n",
    "x_train=data[:,0:4]\n",
    "print(x_train.shape)\n",
    "x_train"
   ]
  },
  {
   "cell_type": "code",
   "execution_count": 3,
   "metadata": {},
   "outputs": [
    {
     "name": "stdout",
     "output_type": "stream",
     "text": [
      "(7176, 5)\n"
     ]
    },
    {
     "data": {
      "text/plain": [
       "(2392, 4)"
      ]
     },
     "execution_count": 3,
     "metadata": {},
     "output_type": "execute_result"
    }
   ],
   "source": [
    "data=np.genfromtxt(\"0000000000002419_training_ccpp_x_y_train.csv\",delimiter=\",\")\n",
    "data1=np.genfromtxt(\"0000000000002419_test_ccpp_x_test (1).csv\",delimiter=\",\")\n",
    "data.shape,data1.shape\n",
    "x_train=data[:,0:4]\n",
    "y_train=data[:,4]\n",
    "data.shape,data1.shape\n",
    "x_train=np.insert(x_train,4,1,axis=1)\n",
    "print(x_train.shape)\n",
    "x_test=data1[:,:]\n",
    "x_test.shape"
   ]
  },
  {
   "cell_type": "code",
   "execution_count": 4,
   "metadata": {},
   "outputs": [
    {
     "name": "stdout",
     "output_type": "stream",
     "text": [
      "[[53.90035587 81.78173719]\n",
      " [75.06049822 76.10987379]\n",
      " [65.15302491 67.70601336]\n",
      " ...\n",
      " [86.95373665 64.45434298]\n",
      " [70.89679715 77.19376392]\n",
      " [79.16014235 66.42910171]]\n"
     ]
    }
   ],
   "source": [
    "x1=data[:,1:3]\n",
    "min_max_scaler=preprocessing.MinMaxScaler(feature_range=(40,100))\n",
    "x1_min_max_scaler=min_max_scaler.fit_transform(x1)\n",
    "print(x1_min_max_scaler)"
   ]
  },
  {
   "cell_type": "code",
   "execution_count": 5,
   "metadata": {},
   "outputs": [],
   "source": [
    "def step_gradient(x_train,learning_rate,m):\n",
    "    M=len(x_train)\n",
    "    m_slope=0\n",
    "    for i in range(M):\n",
    "        x=x_train[i,:]\n",
    "        y=y_train[i]\n",
    "        m_slope+=(-2/M)*(y-(m*x).sum())*x\n",
    "    m=m-learning_rate*m_slope   \n",
    "    return m    "
   ]
  },
  {
   "cell_type": "code",
   "execution_count": 6,
   "metadata": {},
   "outputs": [],
   "source": [
    "def gd(x_train,learning_rate,num_iteration):\n",
    "    m=np.zeros(5)\n",
    "    for i in range(num_iteration):\n",
    "        m=step_gradient(x_train,learning_rate,m)\n",
    "        \n",
    "    return m    "
   ]
  },
  {
   "cell_type": "code",
   "execution_count": 7,
   "metadata": {},
   "outputs": [],
   "source": [
    "x_test=np.insert(x_test,4,1,axis=1)\n",
    "learning_rate=0.0000001\n",
    "num_iteration=1500000\n",
    "m=gd(x_train,learning_rate,num_iteration)"
   ]
  },
  {
   "cell_type": "code",
   "execution_count": 8,
   "metadata": {},
   "outputs": [
    {
     "data": {
      "text/plain": [
       "array([471.11362051, 470.41954583, 432.08158843, ..., 439.495319  ,\n",
       "       452.75480776, 450.99436752])"
      ]
     },
     "execution_count": 8,
     "metadata": {},
     "output_type": "execute_result"
    }
   ],
   "source": [
    "def predict(x_test,m):\n",
    "    M=len(x_test)\n",
    "    y=np.zeros(M)\n",
    "    for i in range(M):\n",
    "        x=x_test[i,:]\n",
    "        y[i]=(x*m).sum()\n",
    "    return y\n",
    "predict(x_test,m)\n",
    "np.savetxt(\"project.csv\",predict(x_test,m))\n",
    "predict(x_test,m)"
   ]
  }
 ],
 "metadata": {
  "kernelspec": {
   "display_name": "Python 3",
   "language": "python",
   "name": "python3"
  },
  "language_info": {
   "codemirror_mode": {
    "name": "ipython",
    "version": 3
   },
   "file_extension": ".py",
   "mimetype": "text/x-python",
   "name": "python",
   "nbconvert_exporter": "python",
   "pygments_lexer": "ipython3",
   "version": "3.6.5"
  }
 },
 "nbformat": 4,
 "nbformat_minor": 2
}
