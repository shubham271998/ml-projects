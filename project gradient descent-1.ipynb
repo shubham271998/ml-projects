{
 "cells": [
  {
   "cell_type": "code",
   "execution_count": 2,
   "metadata": {},
   "outputs": [],
   "source": [
    "import numpy as np\n",
    "import os\n",
    "os.chdir(\"C:\\\\Users\\Shubham Rao\\Downloads\")"
   ]
  },
  {
   "cell_type": "code",
   "execution_count": 3,
   "metadata": {},
   "outputs": [
    {
     "data": {
      "text/plain": [
       "(379, 14)"
      ]
     },
     "execution_count": 3,
     "metadata": {},
     "output_type": "execute_result"
    }
   ],
   "source": [
    "data=np.genfromtxt(\"0000000000002417_training_boston_x_y_train.csv\",delimiter=\",\")\n",
    "data1=np.genfromtxt(\"0000000000002417_test_boston_x_test.csv\",delimiter=\",\")\n",
    "data.shape,data1.shape\n",
    "x_train=data[:,0:13]\n",
    "y_train=data[:,13]\n",
    "x_train.shape\n",
    "x_train=np.insert(x_train,13,1,axis=1)\n",
    "x_train.shape\n",
    "x_test=data1[:,:]\n",
    "x_train.shape"
   ]
  },
  {
   "cell_type": "code",
   "execution_count": 4,
   "metadata": {},
   "outputs": [],
   "source": [
    "def step_gradient(x_train,learning_rate,m):\n",
    "    M=len(x_train)\n",
    "    m_slope=0\n",
    "    for i in range(M):\n",
    "            x=x_train[i,:]\n",
    "            y=y_train[i]\n",
    "            m_slope+=(-2/M)*(y-(m*x).sum())*x\n",
    "    m=m-learning_rate*m_slope\n",
    "    return m"
   ]
  },
  {
   "cell_type": "code",
   "execution_count": 5,
   "metadata": {},
   "outputs": [],
   "source": [
    "def gd(x_train,learning_rate,num_iteration):\n",
    "    m=np.zeros(14)\n",
    "    for i in range(num_iteration):\n",
    "        m=step_gradient(x_train,learning_rate,m)\n",
    "    return m    "
   ]
  },
  {
   "cell_type": "code",
   "execution_count": 6,
   "metadata": {},
   "outputs": [],
   "source": [
    " x_test=np.insert(x_test,13,1,axis=1)\n",
    "learning_rate=0.001\n",
    "num_iteration=50000\n",
    "m=gd(x_train,learning_rate,num_iteration)"
   ]
  },
  {
   "cell_type": "code",
   "execution_count": 9,
   "metadata": {},
   "outputs": [
    {
     "data": {
      "text/plain": [
       "array([12.43304424, 29.03272189, 22.37177997, 24.4770161 , 20.60310882,\n",
       "        2.72577239, 30.39865526, 24.86083311, 18.6576296 , 23.53985235,\n",
       "       24.11393876, 17.71179123, 17.44171455, 21.65428   , 42.31189276,\n",
       "       23.85046381, 24.47570105, 27.53972527, 20.23672991, 31.15252861,\n",
       "       23.78391331, 25.00947938, 33.957489  , 36.43479332, 32.04158508,\n",
       "       16.71260201, 23.472089  , 32.93973502, 25.17973025, 33.71015642,\n",
       "       16.8861918 , 26.02851414, 23.27065372, 25.47741726, 15.00942626,\n",
       "       29.58619106, 26.2482223 , 20.37375008, 24.43589595,  9.44716257,\n",
       "        8.38046735, 29.01357888, 29.591292  , 19.75803975, 20.37161787,\n",
       "        3.14414585, 39.52409806, 25.71742393, 30.37570943, 16.79431302,\n",
       "       17.89055721, 41.02414792, 17.57217094, 20.8976712 , 15.59870613,\n",
       "       21.41323349, 18.45434313, 23.15584539, 13.67280462, 17.23540736,\n",
       "       15.02742796, 29.15132867, 25.17273897, 25.49745917, 17.21140954,\n",
       "       17.42919669, 34.70356918, 17.01315133, 27.1063791 , 22.54646977,\n",
       "       29.25455414, 27.10997754, 17.73411969,  5.74676928, 36.875331  ,\n",
       "       25.09213144, 30.1496862 , 27.24003348, 16.25199574, 32.63617775,\n",
       "       19.27318772, 22.65547774, 22.23233985,  8.55017813, 17.33030067,\n",
       "       29.17611047, 27.20798492,  5.88540411, 21.91095029, 20.11514943,\n",
       "       22.17662875, 20.52801334, 20.85328255, 13.18119447, 19.69445076,\n",
       "       25.98676144, 40.2701401 , 19.77334859, 33.70201445, 27.2197036 ,\n",
       "       28.7448176 , 22.1151195 , 25.91304377, 31.30742131, 17.15292076,\n",
       "       26.37151326, 21.44748314, 36.74043175, 22.081661  , 16.70894594,\n",
       "       27.59539087, -0.06015445, 13.86285345, 16.28714656, 35.77126649,\n",
       "       20.8536332 , 20.77333996, 25.35096254, 21.78877668, 18.84716931,\n",
       "       13.51522019, 35.61859573, 23.09210912, 25.01706155, 17.46671235,\n",
       "       20.738429  , 14.73006722])"
      ]
     },
     "execution_count": 9,
     "metadata": {},
     "output_type": "execute_result"
    }
   ],
   "source": [
    "def predict(x_test,m):\n",
    "    M=len(x_test)\n",
    "    y=np.zeros(M)\n",
    "    for i in range(M):\n",
    "        x=x_test[i,:]\n",
    "        y[i]=(x*m).sum()\n",
    "    return y\n",
    "np.savetxt(\"mpcs.csv\",predict(x_test,m),fmt=\"%f\")\n",
    "predict(x_test,m)"
   ]
  }
 ],
 "metadata": {
  "kernelspec": {
   "display_name": "Python 3",
   "language": "python",
   "name": "python3"
  },
  "language_info": {
   "codemirror_mode": {
    "name": "ipython",
    "version": 3
   },
   "file_extension": ".py",
   "mimetype": "text/x-python",
   "name": "python",
   "nbconvert_exporter": "python",
   "pygments_lexer": "ipython3",
   "version": "3.7.0"
  }
 },
 "nbformat": 4,
 "nbformat_minor": 2
}
